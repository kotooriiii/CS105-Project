{
 "cells": [
  {
   "cell_type": "markdown",
   "id": "afa5e059-dff5-4f94-815d-cb1d338728e9",
   "metadata": {},
   "source": [
    "# CS105 Final Project: Using Text Analysis on Movie Scripts to Predict Genre\n",
    "### By: Tran Nguyen, Nina Shenoy, Carlos Miranda, Kathleen Dario"
   ]
  },
  {
   "cell_type": "markdown",
   "id": "9717c346-9b47-4d43-b85f-50700da65a4f",
   "metadata": {},
   "source": [
    "Our project idea stemmed from our collective love of movies. After learning about different machine learning + classification techniques in class, we questioned whether we could apply these concepts to movie scripts, and see if we could correctly predict the genre of a movie based on the words in it's script. The techniques we will use are tf-idf, KNN, and cosine similarity."
   ]
  },
  {
   "cell_type": "code",
   "execution_count": 18,
   "id": "ebfe6c4e-d266-4d2e-8be1-8ec58ad0e03a",
   "metadata": {},
   "outputs": [],
   "source": [
    "#Necessary imports for plotting, pandas, math operations, and multiple print statements.\n",
    "import pandas as pd\n",
    "from scipy.stats import chi2, chi2_contingency\n",
    "from IPython.display import Image\n",
    "import matplotlib.pyplot as plt\n",
    "from math import pi\n",
    "import numpy as np\n",
    "import seaborn as sns\n",
    "%matplotlib inline\n",
    "\n",
    "from IPython.core.interactiveshell import InteractiveShell\n",
    "InteractiveShell.ast_node_interactivity = \"all\""
   ]
  },
  {
   "cell_type": "markdown",
   "id": "f6aaa9e0-4090-4b30-a9b0-c0cdc8eb574a",
   "metadata": {},
   "source": [
    "## 2. Data Collection & Data Cleaning\n",
    "#### (Carlos Miranda + Nina Shenoy + Tran Ngueyn + Kathleen Dario)"
   ]
  },
  {
   "cell_type": "markdown",
   "id": "57960849-e160-464c-8ed8-8ddbaaf71fc8",
   "metadata": {},
   "source": [
    "We retrieved our data from 2 sources: IMDb and Kaggle. The IMDB datasets were used to obtain information about the movies title, genre(s), release date, language, etc. while the Kaggle dataset was used to retrieve the movie scripts. We used inner joins to combine the 3 datasets together, using the IMDB ID as the joining factor.\n",
    "\n",
    "After combining our datasets, we then had to filter out any unneeded entries.  The IMDb datasets contained tens of thousands of movie entries, dating as far back to the 1800's. We decided that for this project, we will only use feature-length films (excludinv tv series, short-films, etc) that were released in the years (1960-2021) that are in English, and are from the regions of US and Canada. This signifigantly reduced the size of our original dataset, which made runtime faster and easier for us to analyze.\n",
    "\n",
    "We also noticed that some movies had more than one entry. This was because there were instances where two scripts would correspond to a particular movie. To resolve this, we got rid of the longer script, as it contained unnecessary data such as exposition, cues, and character names, and we mainly wanted to focus on dialogue."
   ]
  },
  {
   "cell_type": "code",
   "execution_count": 19,
   "id": "0d4447dd-66d2-4ba7-8173-92196f1ce388",
   "metadata": {},
   "outputs": [],
   "source": [
    "# def removeDuplicates(scripts_basics_df):\n",
    "#     # Key = IMDB ID , Value = Size of script\n",
    "#     smallestMovieScriptMap = {}\n",
    "#     # Key = IMDB ID , Value = index\n",
    "#     keepIndexMap = {}\n",
    "\n",
    "#     #show all columns\n",
    "#     scripts_basics_df.dtypes\n",
    "\n",
    "#     scripts_basics_df['Scripts'] = scripts_basics_df['Scripts'].apply(str)\n",
    "\n",
    "#     for index, row in scripts_basics_df.iterrows():\n",
    "#         constID = row['IMDB ID']\n",
    "#         currentSize = len(row['Scripts'])\n",
    "\n",
    "#         if constID in smallestMovieScriptMap:\n",
    "#             smallestSize = smallestMovieScriptMap[constID]\n",
    "#             if currentSize < smallestSize:\n",
    "#                 smallestMovieScriptMap[constID] = currentSize\n",
    "#                 keepIndexMap[constID] = index\n",
    "#         else:\n",
    "#             smallestMovieScriptMap[constID] = currentSize\n",
    "#             keepIndexMap[constID] = index\n",
    "#     # keep this removed, this removes first instance\n",
    "#     # scripts_basics_df = scripts_basics_df[~scripts_basics_df.index.duplicated(keep='first')]\n",
    "#     return scripts_basics_df[scripts_basics_df.index.isin(keepIndexMap.values())]"
   ]
  },
  {
   "cell_type": "code",
   "execution_count": 20,
   "id": "202ec450-b0ed-4c76-9126-8ae846bcd7ee",
   "metadata": {},
   "outputs": [],
   "source": [
    "# #Read basics.tsv\n",
    "# basics_df = pd.read_csv(\"datasets/basics.tsv\", sep=\"\\t\")\n",
    "\n",
    "# #Filter basics_df\n",
    "# basics_df = basics_df[basics_df[\"titleType\"] == \"movie\"]\n",
    "# basics_df = basics_df[basics_df[\"genres\"] != \"\\\\N\"]\n",
    "# # basics_df = basics_df[basics_df[\"startYear\"] != \"\\\\N\"]\n",
    "# # basics_df[\"startYear\"] = basics_df[\"startYear\"].apply(int)\n",
    "# # basics_df = basics_df[basics_df[\"startYear\"] >= 1960]\n",
    "# basics_df = basics_df.set_index(\"tconst\")\n",
    "\n",
    "# #Filter akas_df\n",
    "# akas_df = pd.read_csv(\"datasets/akas.tsv\", sep=\"\\t\", dtype={\n",
    "#     \"titleId\": \"string\", \n",
    "#     \"ordering\": int, \n",
    "#     \"title\": \"string\", \n",
    "#     \"region\":\"string\",\n",
    "#     \"language\":\"string\"\n",
    "# })\n",
    "\n",
    "# akas_df = akas_df[akas_df[\"region\"].isin([\"US\",\"CA\"])]\n",
    "# akas_df = akas_df[akas_df[\"language\"] == \"en\"]\n",
    "# akas_df = akas_df.set_index(\"titleId\")\n",
    "\n",
    "# #Join\n",
    "# akas_basics_df = basics_df.join(akas_df, how='inner')\n"
   ]
  },
  {
   "cell_type": "code",
   "execution_count": 21,
   "id": "a2f8dccd-4f37-4d03-9003-c4efd637e8c4",
   "metadata": {},
   "outputs": [],
   "source": [
    "# #Read scripts.csv\n",
    "# scripts_df = pd.read_csv(\"datasets/scripts.csv\", dtype={\n",
    "#     \"IMDB ID\": \"string\", \n",
    "#     \"Scripts\": \"string\", \n",
    "#     \"release year\": int, \n",
    "# });\n",
    "# scripts_df = scripts_df.set_index(\"IMDB ID\");\n",
    "# scripts_df = scripts_df.drop(['genres'], axis=1)\n",
    "\n",
    "# scripts_basics_df = akas_basics_df.join(scripts_df, how='inner')\n",
    "# scripts_basics_df=scripts_basics_df.reset_index()\n",
    "# scripts_basics_df = scripts_basics_df.rename(columns={'index': 'IMDB ID'})\n",
    "# scripts_basics_df = removeDuplicates(scripts_basics_df)"
   ]
  },
  {
   "cell_type": "code",
   "execution_count": 22,
   "id": "bce143da",
   "metadata": {},
   "outputs": [
    {
     "data": {
      "text/html": [
       "<div>\n",
       "<style scoped>\n",
       "    .dataframe tbody tr th:only-of-type {\n",
       "        vertical-align: middle;\n",
       "    }\n",
       "\n",
       "    .dataframe tbody tr th {\n",
       "        vertical-align: top;\n",
       "    }\n",
       "\n",
       "    .dataframe thead th {\n",
       "        text-align: right;\n",
       "    }\n",
       "</style>\n",
       "<table border=\"1\" class=\"dataframe\">\n",
       "  <thead>\n",
       "    <tr style=\"text-align: right;\">\n",
       "      <th></th>\n",
       "      <th>Unnamed: 0</th>\n",
       "      <th>IMDB ID</th>\n",
       "      <th>titleType</th>\n",
       "      <th>primaryTitle</th>\n",
       "      <th>originalTitle</th>\n",
       "      <th>isAdult</th>\n",
       "      <th>startYear</th>\n",
       "      <th>endYear</th>\n",
       "      <th>runtimeMinutes</th>\n",
       "      <th>genres</th>\n",
       "      <th>...</th>\n",
       "      <th>language</th>\n",
       "      <th>types</th>\n",
       "      <th>attributes</th>\n",
       "      <th>isOriginalTitle</th>\n",
       "      <th>Unnamed: 0.1</th>\n",
       "      <th>actors</th>\n",
       "      <th>characters</th>\n",
       "      <th>movie title</th>\n",
       "      <th>release year</th>\n",
       "      <th>Scripts</th>\n",
       "    </tr>\n",
       "  </thead>\n",
       "  <tbody>\n",
       "    <tr>\n",
       "      <th>0</th>\n",
       "      <td>0</td>\n",
       "      <td>tt0035423</td>\n",
       "      <td>movie</td>\n",
       "      <td>Kate &amp; Leopold</td>\n",
       "      <td>Kate &amp; Leopold</td>\n",
       "      <td>0</td>\n",
       "      <td>2001</td>\n",
       "      <td>\\N</td>\n",
       "      <td>118</td>\n",
       "      <td>Comedy,Fantasy,Romance</td>\n",
       "      <td>...</td>\n",
       "      <td>en</td>\n",
       "      <td>imdbDisplay</td>\n",
       "      <td>\\N</td>\n",
       "      <td>0</td>\n",
       "      <td>3216</td>\n",
       "      <td>Hugh Jackman</td>\n",
       "      <td>Leopold</td>\n",
       "      <td>Kate &amp; Leopold</td>\n",
       "      <td>2001</td>\n",
       "      <td>Time. Time, it has been proposed is the fourth...</td>\n",
       "    </tr>\n",
       "    <tr>\n",
       "      <th>1</th>\n",
       "      <td>2</td>\n",
       "      <td>tt0101004</td>\n",
       "      <td>movie</td>\n",
       "      <td>Zandalee</td>\n",
       "      <td>Zandalee</td>\n",
       "      <td>0</td>\n",
       "      <td>1991</td>\n",
       "      <td>\\N</td>\n",
       "      <td>100</td>\n",
       "      <td>Drama,Romance,Thriller</td>\n",
       "      <td>...</td>\n",
       "      <td>en</td>\n",
       "      <td>imdbDisplay</td>\n",
       "      <td>\\N</td>\n",
       "      <td>0</td>\n",
       "      <td>1582</td>\n",
       "      <td>Nicolas Cage</td>\n",
       "      <td>Johnny Collins</td>\n",
       "      <td>Zandalee</td>\n",
       "      <td>1991</td>\n",
       "      <td>NaN</td>\n",
       "    </tr>\n",
       "    <tr>\n",
       "      <th>2</th>\n",
       "      <td>3</td>\n",
       "      <td>tt0101393</td>\n",
       "      <td>movie</td>\n",
       "      <td>Backdraft</td>\n",
       "      <td>Backdraft</td>\n",
       "      <td>0</td>\n",
       "      <td>1991</td>\n",
       "      <td>\\N</td>\n",
       "      <td>137</td>\n",
       "      <td>Action,Crime,Drama</td>\n",
       "      <td>...</td>\n",
       "      <td>en</td>\n",
       "      <td>imdbDisplay</td>\n",
       "      <td>\\N</td>\n",
       "      <td>0</td>\n",
       "      <td>78</td>\n",
       "      <td>Robert DeNiro</td>\n",
       "      <td>Donald Rimgale</td>\n",
       "      <td>Backdraft</td>\n",
       "      <td>1991</td>\n",
       "      <td>&lt;font color=orange&gt;© &lt;font color=orange&gt;© P &lt;f...</td>\n",
       "    </tr>\n",
       "    <tr>\n",
       "      <th>3</th>\n",
       "      <td>5</td>\n",
       "      <td>tt0101410</td>\n",
       "      <td>movie</td>\n",
       "      <td>Barton Fink</td>\n",
       "      <td>Barton Fink</td>\n",
       "      <td>0</td>\n",
       "      <td>1991</td>\n",
       "      <td>\\N</td>\n",
       "      <td>116</td>\n",
       "      <td>Comedy,Drama,Thriller</td>\n",
       "      <td>...</td>\n",
       "      <td>en</td>\n",
       "      <td>imdbDisplay</td>\n",
       "      <td>\\N</td>\n",
       "      <td>0</td>\n",
       "      <td>2066</td>\n",
       "      <td>Frances McDormand</td>\n",
       "      <td>Stage Actress (voice)</td>\n",
       "      <td>Barton Fink</td>\n",
       "      <td>1991</td>\n",
       "      <td>Kissing it all good-bye. These four stinkin' w...</td>\n",
       "    </tr>\n",
       "    <tr>\n",
       "      <th>4</th>\n",
       "      <td>6</td>\n",
       "      <td>tt0101452</td>\n",
       "      <td>movie</td>\n",
       "      <td>Bill &amp; Ted's Bogus Journey</td>\n",
       "      <td>Bill &amp; Ted's Bogus Journey</td>\n",
       "      <td>0</td>\n",
       "      <td>1991</td>\n",
       "      <td>\\N</td>\n",
       "      <td>93</td>\n",
       "      <td>Adventure,Comedy,Fantasy</td>\n",
       "      <td>...</td>\n",
       "      <td>en</td>\n",
       "      <td>imdbDisplay</td>\n",
       "      <td>\\N</td>\n",
       "      <td>0</td>\n",
       "      <td>3255</td>\n",
       "      <td>Keanu Reeves</td>\n",
       "      <td>Ted Logan</td>\n",
       "      <td>Bill &amp; Ted's Bogus Journey</td>\n",
       "      <td>1991</td>\n",
       "      <td>[SUSPENSEFUL MUSIC PLAYING] It is time. They'v...</td>\n",
       "    </tr>\n",
       "  </tbody>\n",
       "</table>\n",
       "<p>5 rows × 23 columns</p>\n",
       "</div>"
      ],
      "text/plain": [
       "   Unnamed: 0    IMDB ID titleType                primaryTitle  \\\n",
       "0           0  tt0035423     movie              Kate & Leopold   \n",
       "1           2  tt0101004     movie                    Zandalee   \n",
       "2           3  tt0101393     movie                   Backdraft   \n",
       "3           5  tt0101410     movie                 Barton Fink   \n",
       "4           6  tt0101452     movie  Bill & Ted's Bogus Journey   \n",
       "\n",
       "                originalTitle  isAdult  startYear endYear  runtimeMinutes  \\\n",
       "0              Kate & Leopold        0       2001      \\N             118   \n",
       "1                    Zandalee        0       1991      \\N             100   \n",
       "2                   Backdraft        0       1991      \\N             137   \n",
       "3                 Barton Fink        0       1991      \\N             116   \n",
       "4  Bill & Ted's Bogus Journey        0       1991      \\N              93   \n",
       "\n",
       "                     genres  ...  language        types attributes  \\\n",
       "0    Comedy,Fantasy,Romance  ...        en  imdbDisplay         \\N   \n",
       "1    Drama,Romance,Thriller  ...        en  imdbDisplay         \\N   \n",
       "2        Action,Crime,Drama  ...        en  imdbDisplay         \\N   \n",
       "3     Comedy,Drama,Thriller  ...        en  imdbDisplay         \\N   \n",
       "4  Adventure,Comedy,Fantasy  ...        en  imdbDisplay         \\N   \n",
       "\n",
       "  isOriginalTitle Unnamed: 0.1             actors             characters  \\\n",
       "0               0         3216       Hugh Jackman                Leopold   \n",
       "1               0         1582       Nicolas Cage         Johnny Collins   \n",
       "2               0           78      Robert DeNiro         Donald Rimgale   \n",
       "3               0         2066  Frances McDormand  Stage Actress (voice)   \n",
       "4               0         3255       Keanu Reeves              Ted Logan   \n",
       "\n",
       "                  movie title release year  \\\n",
       "0              Kate & Leopold         2001   \n",
       "1                    Zandalee         1991   \n",
       "2                   Backdraft         1991   \n",
       "3                 Barton Fink         1991   \n",
       "4  Bill & Ted's Bogus Journey         1991   \n",
       "\n",
       "                                             Scripts  \n",
       "0  Time. Time, it has been proposed is the fourth...  \n",
       "1                                                NaN  \n",
       "2  <font color=orange>© <font color=orange>© P <f...  \n",
       "3  Kissing it all good-bye. These four stinkin' w...  \n",
       "4  [SUSPENSEFUL MUSIC PLAYING] It is time. They'v...  \n",
       "\n",
       "[5 rows x 23 columns]"
      ]
     },
     "execution_count": 22,
     "metadata": {},
     "output_type": "execute_result"
    }
   ],
   "source": [
    "#Read clean.csv, which has our cleaned dataset\n",
    "scripts_basics_df = pd.read_csv(\"datasets/clean.csv\")\n",
    "scripts_basics_df.head()"
   ]
  },
  {
   "cell_type": "markdown",
   "id": "c86b984c-17a8-4d1c-b490-e5f9924303cd",
   "metadata": {},
   "source": [
    "Since some movies were classified as having multiple genres, we ended up splitting them into multiple entries in our data set, with each entry having one genre. This made it easier for us to calculate the frequencies of the different genres."
   ]
  },
  {
   "cell_type": "code",
   "execution_count": 23,
   "id": "3dbcdbb2-cd5a-4f99-a2fe-9ef3b99e8886",
   "metadata": {},
   "outputs": [
    {
     "data": {
      "text/html": [
       "<div>\n",
       "<style scoped>\n",
       "    .dataframe tbody tr th:only-of-type {\n",
       "        vertical-align: middle;\n",
       "    }\n",
       "\n",
       "    .dataframe tbody tr th {\n",
       "        vertical-align: top;\n",
       "    }\n",
       "\n",
       "    .dataframe thead th {\n",
       "        text-align: right;\n",
       "    }\n",
       "</style>\n",
       "<table border=\"1\" class=\"dataframe\">\n",
       "  <thead>\n",
       "    <tr style=\"text-align: right;\">\n",
       "      <th></th>\n",
       "      <th>originalTitle</th>\n",
       "      <th>Scripts</th>\n",
       "      <th>genres</th>\n",
       "    </tr>\n",
       "  </thead>\n",
       "  <tbody>\n",
       "    <tr>\n",
       "      <th>0</th>\n",
       "      <td>Kate &amp; Leopold</td>\n",
       "      <td>Time. Time, it has been proposed is the fourth...</td>\n",
       "      <td>Comedy</td>\n",
       "    </tr>\n",
       "    <tr>\n",
       "      <th>0</th>\n",
       "      <td>Kate &amp; Leopold</td>\n",
       "      <td>Time. Time, it has been proposed is the fourth...</td>\n",
       "      <td>Fantasy</td>\n",
       "    </tr>\n",
       "    <tr>\n",
       "      <th>0</th>\n",
       "      <td>Kate &amp; Leopold</td>\n",
       "      <td>Time. Time, it has been proposed is the fourth...</td>\n",
       "      <td>Romance</td>\n",
       "    </tr>\n",
       "    <tr>\n",
       "      <th>1</th>\n",
       "      <td>Zandalee</td>\n",
       "      <td>NaN</td>\n",
       "      <td>Drama</td>\n",
       "    </tr>\n",
       "    <tr>\n",
       "      <th>1</th>\n",
       "      <td>Zandalee</td>\n",
       "      <td>NaN</td>\n",
       "      <td>Romance</td>\n",
       "    </tr>\n",
       "    <tr>\n",
       "      <th>...</th>\n",
       "      <td>...</td>\n",
       "      <td>...</td>\n",
       "      <td>...</td>\n",
       "    </tr>\n",
       "    <tr>\n",
       "      <th>2143</th>\n",
       "      <td>SPF-18</td>\n",
       "      <td>real life and the movies can get a little mixe...</td>\n",
       "      <td>Romance</td>\n",
       "    </tr>\n",
       "    <tr>\n",
       "      <th>2143</th>\n",
       "      <td>SPF-18</td>\n",
       "      <td>real life and the movies can get a little mixe...</td>\n",
       "      <td>Sport</td>\n",
       "    </tr>\n",
       "    <tr>\n",
       "      <th>2144</th>\n",
       "      <td>Singularity</td>\n",
       "      <td>Please use left-hand lane. People should be cl...</td>\n",
       "      <td>Action</td>\n",
       "    </tr>\n",
       "    <tr>\n",
       "      <th>2144</th>\n",
       "      <td>Singularity</td>\n",
       "      <td>Please use left-hand lane. People should be cl...</td>\n",
       "      <td>Adventure</td>\n",
       "    </tr>\n",
       "    <tr>\n",
       "      <th>2144</th>\n",
       "      <td>Singularity</td>\n",
       "      <td>Please use left-hand lane. People should be cl...</td>\n",
       "      <td>Drama</td>\n",
       "    </tr>\n",
       "  </tbody>\n",
       "</table>\n",
       "<p>5562 rows × 3 columns</p>\n",
       "</div>"
      ],
      "text/plain": [
       "       originalTitle                                            Scripts  \\\n",
       "0     Kate & Leopold  Time. Time, it has been proposed is the fourth...   \n",
       "0     Kate & Leopold  Time. Time, it has been proposed is the fourth...   \n",
       "0     Kate & Leopold  Time. Time, it has been proposed is the fourth...   \n",
       "1           Zandalee                                                NaN   \n",
       "1           Zandalee                                                NaN   \n",
       "...              ...                                                ...   \n",
       "2143          SPF-18  real life and the movies can get a little mixe...   \n",
       "2143          SPF-18  real life and the movies can get a little mixe...   \n",
       "2144     Singularity  Please use left-hand lane. People should be cl...   \n",
       "2144     Singularity  Please use left-hand lane. People should be cl...   \n",
       "2144     Singularity  Please use left-hand lane. People should be cl...   \n",
       "\n",
       "         genres  \n",
       "0        Comedy  \n",
       "0       Fantasy  \n",
       "0       Romance  \n",
       "1         Drama  \n",
       "1       Romance  \n",
       "...         ...  \n",
       "2143    Romance  \n",
       "2143      Sport  \n",
       "2144     Action  \n",
       "2144  Adventure  \n",
       "2144      Drama  \n",
       "\n",
       "[5562 rows x 3 columns]"
      ]
     },
     "metadata": {},
     "output_type": "display_data"
    },
    {
     "data": {
      "text/plain": [
       "array(['Comedy', 'Fantasy', 'Romance', 'Drama', 'Thriller', 'Action',\n",
       "       'Crime', 'Adventure', 'Family', 'Mystery', 'Biography', 'Music',\n",
       "       'Horror', 'Sci-Fi', 'Animation', 'Sport', 'History', 'Western',\n",
       "       'War', 'Musical', 'Documentary'], dtype=object)"
      ]
     },
     "metadata": {},
     "output_type": "display_data"
    }
   ],
   "source": [
    "scripts_basics_df[\"genres\"] = scripts_basics_df[\"genres\"].str.split(\",\")\n",
    "scripts_basics_df = scripts_basics_df.explode(\"genres\")\n",
    "display(scripts_basics_df[[\"originalTitle\", \"Scripts\", \"genres\"]])\n",
    "display(scripts_basics_df[\"genres\"].unique())"
   ]
  },
  {
   "cell_type": "markdown",
   "id": "c0140cda-756b-4aed-a2d4-d07becb101d9",
   "metadata": {},
   "source": [
    "# NOTE: I was thinking for data cleaning, we could use a quote from a script in our dataset (without cleaning), run our cleaning algo(s) on it, and then show the resulting (clean) quote. This could also be a question for our presentation: What quote did we use to demonstrate how we cleaned our data?"
   ]
  },
  {
   "cell_type": "markdown",
   "id": "a9c0e90c-04ea-4174-b347-5dd3e549280d",
   "metadata": {},
   "source": [
    "## Exploratory Data Analysis\n",
    "#### (Nina Shenoy)\n"
   ]
  },
  {
   "cell_type": "markdown",
   "id": "5c5865c2-c92c-445b-84dc-e1049e3e3862",
   "metadata": {},
   "source": [
    "### What are the most common film genres in our dataset?"
   ]
  },
  {
   "cell_type": "code",
   "execution_count": 24,
   "id": "d4134564",
   "metadata": {},
   "outputs": [
    {
     "name": "stdout",
     "output_type": "stream",
     "text": [
      "Drama          1205\n",
      "Comedy          886\n",
      "Action          623\n",
      "Crime           502\n",
      "Romance         426\n",
      "Adventure       424\n",
      "Thriller        380\n",
      "Mystery         203\n",
      "Fantasy         165\n",
      "Sci-Fi          156\n",
      "Biography       112\n",
      "Animation       107\n",
      "Family          102\n",
      "Horror           74\n",
      "Sport            63\n",
      "Music            54\n",
      "History          22\n",
      "War              22\n",
      "Western          19\n",
      "Musical          15\n",
      "Documentary       2\n",
      "Name: genres, dtype: int64\n"
     ]
    },
    {
     "data": {
      "text/plain": [
       "<AxesSubplot:>"
      ]
     },
     "execution_count": 24,
     "metadata": {},
     "output_type": "execute_result"
    },
    {
     "data": {
      "image/png": "[encoded data removed]",
      "text/plain": [
       "<Figure size 432x288 with 1 Axes>"
      ]
     },
     "metadata": {
      "needs_background": "light"
     },
     "output_type": "display_data"
    }
   ],
   "source": [
    "genre_frequency = scripts_basics_df.genres.value_counts()\n",
    "print(genre_frequency)\n",
    "genre_frequency.plot.bar()"
   ]
  },
  {
   "cell_type": "markdown",
   "id": "2f343638-85e6-45dd-9c7c-d35c0435b484",
   "metadata": {},
   "source": [
    "As we can see per the above bar chart, the majority of the films in the dataset are classified as Drama, Comedy, and/or Action."
   ]
  },
  {
   "cell_type": "markdown",
   "id": "0a67d57c-d738-4429-9f3b-40c9eba2af9d",
   "metadata": {},
   "source": [
    "### Which genre(s) have the longest scripts?"
   ]
  },
  {
   "cell_type": "markdown",
   "id": "243d94a9-5edb-4932-96a1-e9e7a3b8d9bb",
   "metadata": {},
   "source": [
    "### What are the most common words in each genre?"
   ]
  },
  {
   "cell_type": "code",
   "execution_count": 56,
   "id": "b19dbf49-233a-40a1-85de-b9b8cd7b7117",
   "metadata": {},
   "outputs": [
    {
     "name": "stdout",
     "output_type": "stream",
     "text": [
      "[('I', 261), ('-', 194), ('you', 144), ('a', 129), ('to', 123), ('the', 100), ('of', 68), ('You', 55), ('that', 50), (\"I'm\", 50), ('just', 49), ('me', 47), ('Oh,', 45), ('my', 44), ('have', 41), ('is', 40), ('and', 39), (\"It's\", 39), ('not', 39), ('was', 37), ('for', 35), ('in', 33), ('like', 32), ('it', 32), ('this', 32), ('he', 31), (\"don't\", 31), ('with', 31), ('And', 30), ('at', 30), ('are', 29), ('know', 29), ('what', 29), (\"it's\", 28), ('be', 27), ('get', 27), ('you.', 27), ('your', 26), ('we', 26), ('Yeah.', 25), ('on', 25), ('Okay.', 25), ('do', 25), ('some', 23), ('me.', 21), ('But', 20), ('it.', 20), (\"That's\", 19), ('all', 19), ('So', 19)]\n"
     ]
    }
   ],
   "source": [
    "from collections import Counter\n",
    "\n",
    "# Get script for Jurassic Park (1993) and print!\n",
    "pd.set_option('display.max_colwidth', None)\n",
    "jp_script = scripts_basics_df.at[1388, 'Scripts']\n",
    "split_it = jp_script.split()\n",
    "Counter = Counter(split_it)\n",
    "most_occur = Counter.most_common(50)\n",
    "print(most_occur)\n",
    "\n"
   ]
  },
  {
   "cell_type": "markdown",
   "id": "a8f29d62-31df-434f-9603-2311cf7d7df5",
   "metadata": {},
   "source": [
    "# Analysis + Techniques\n",
    "#### (Tran Nguyen)"
   ]
  },
  {
   "cell_type": "markdown",
   "id": "b298ad13-76ce-4b93-a92d-82ca936e5ace",
   "metadata": {},
   "source": [
    "KNN"
   ]
  },
  {
   "cell_type": "markdown",
   "id": "ec72b838-4623-415c-ace7-10b3842457ff",
   "metadata": {},
   "source": [
    "Cosine Similarity"
   ]
  },
  {
   "cell_type": "markdown",
   "id": "22ba93dd-4197-4367-a2d7-820fb49669a9",
   "metadata": {},
   "source": [
    "tf-idf"
   ]
  },
  {
   "cell_type": "code",
   "execution_count": null,
   "id": "a3b7b99b-be8f-4816-9f72-9c80c800a421",
   "metadata": {},
   "outputs": [],
   "source": []
  }
 ],
 "metadata": {
  "kernelspec": {
   "display_name": "Python 3 (ipykernel)",
   "language": "python",
   "name": "python3"
  },
  "language_info": {
   "codemirror_mode": {
    "name": "ipython",
    "version": 3
   },
   "file_extension": ".py",
   "mimetype": "text/x-python",
   "name": "python",
   "nbconvert_exporter": "python",
   "pygments_lexer": "ipython3",
   "version": "3.9.7"
  }
 },
 "nbformat": 4,
 "nbformat_minor": 5
}
