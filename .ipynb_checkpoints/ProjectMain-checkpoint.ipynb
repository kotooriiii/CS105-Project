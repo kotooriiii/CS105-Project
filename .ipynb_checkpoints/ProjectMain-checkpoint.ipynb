{
 "cells": [
  {
   "cell_type": "code",
   "execution_count": 21,
   "id": "ecb5bacb",
   "metadata": {},
   "outputs": [],
   "source": [
    "#Necessary imports for plotting, pandas, math operations, and multiple print statements.\n",
    "import pandas as pd\n",
    "from scipy.stats import chi2, chi2_contingency\n",
    "from IPython.display import Image\n",
    "import matplotlib.pyplot as plt\n",
    "from math import pi\n",
    "import numpy as np\n",
    "import seaborn as sns\n",
    "%matplotlib inline\n",
    "\n",
    "from IPython.core.interactiveshell import InteractiveShell\n",
    "InteractiveShell.ast_node_interactivity = \"all\""
   ]
  },
  {
   "cell_type": "code",
   "execution_count": 22,
   "id": "564afdcb",
   "metadata": {},
   "outputs": [],
   "source": [
    "def removeDuplicates(scripts_basics_df):\n",
    "    # Key = IMDB ID , Value = Size of script\n",
    "    smallestMovieScriptMap = {}\n",
    "    # Key = IMDB ID , Value = index\n",
    "    keepIndexMap = {}\n",
    "\n",
    "    #show all columns\n",
    "    scripts_basics_df.dtypes\n",
    "\n",
    "    scripts_basics_df['Scripts'] = scripts_basics_df['Scripts'].apply(str)\n",
    "\n",
    "    for index, row in scripts_basics_df.iterrows():\n",
    "        constID = row['IMDB ID']\n",
    "        currentSize = len(row['Scripts'])\n",
    "\n",
    "        if constID in smallestMovieScriptMap:\n",
    "            smallestSize = smallestMovieScriptMap[constID]\n",
    "            if currentSize < smallestSize:\n",
    "                smallestMovieScriptMap[constID] = currentSize\n",
    "                keepIndexMap[constID] = index\n",
    "        else:\n",
    "            smallestMovieScriptMap[constID] = currentSize\n",
    "            keepIndexMap[constID] = index\n",
    "    # keep this removed, this removes first instance\n",
    "    # scripts_basics_df = scripts_basics_df[~scripts_basics_df.index.duplicated(keep='first')]\n",
    "    return scripts_basics_df[scripts_basics_df.index.isin(keepIndexMap.values())]\n"
   ]
  },
  {
   "cell_type": "code",
   "execution_count": null,
   "id": "bce143da",
   "metadata": {
    "scrolled": false
   },
   "outputs": [
    {
     "name": "stderr",
     "output_type": "stream",
     "text": [
      "C:\\Users\\Kotori\\anaconda3\\lib\\site-packages\\IPython\\core\\interactiveshell.py:3444: DtypeWarning: Columns (4,5) have mixed types.Specify dtype option on import or set low_memory=False.\n",
      "  exec(code_obj, self.user_global_ns, self.user_ns)\n"
     ]
    }
   ],
   "source": [
    "#Read basics.tsv\n",
    "basics_df = pd.read_csv(\"datasets/basics.tsv\", sep=\"\\t\")\n",
    "\n",
    "#Filter basics_df\n",
    "basics_df = basics_df[basics_df[\"titleType\"] == \"movie\"]\n",
    "basics_df = basics_df[basics_df[\"genres\"] != \"\\\\N\"]\n",
    "# basics_df = basics_df[basics_df[\"startYear\"] != \"\\\\N\"]\n",
    "# basics_df[\"startYear\"] = basics_df[\"startYear\"].apply(int)\n",
    "# basics_df = basics_df[basics_df[\"startYear\"] >= 1960]\n",
    "basics_df = basics_df.set_index(\"tconst\")\n",
    "\n",
    "#Filter akas_df\n",
    "akas_df = pd.read_csv(\"datasets/akas.tsv\", sep=\"\\t\", dtype={\n",
    "    \"titleId\": \"string\", \n",
    "    \"ordering\": int, \n",
    "    \"title\": \"string\", \n",
    "    \"region\":\"string\",\n",
    "    \"language\":\"string\"\n",
    "})\n",
    "\n",
    "akas_df = akas_df[akas_df[\"region\"].isin([\"US\",\"CA\"])]\n",
    "akas_df = akas_df[akas_df[\"language\"] == \"en\"]\n",
    "akas_df = akas_df.set_index(\"titleId\")\n",
    "\n",
    "#Join\n",
    "akas_basics_df = basics_df.join(akas_df, how='inner')\n",
    "\n",
    "#Read scripts.csv\n",
    "scripts_df = pd.read_csv(\"datasets/scripts.csv\", dtype={\n",
    "    \"IMDB ID\": \"string\", \n",
    "    \"Scripts\": \"string\", \n",
    "    \"release year\": int, \n",
    "});\n",
    "scripts_df = scripts_df.set_index(\"IMDB ID\");\n",
    "scripts_df = scripts_df.drop(['genres'], axis=1)\n",
    "\n",
    "scripts_basics_df = akas_basics_df.join(scripts_df, how='inner')\n",
    "scripts_basics_df=scripts_basics_df.reset_index()\n",
    "scripts_basics_df = scripts_basics_df.rename(columns={'index': 'IMDB ID'})\n",
    "scripts_basics_df = removeDuplicates(scripts_basics_df)\n",
    "\n",
    "\n",
    "#only show original title and scripts\n",
    "scripts_basics_df[[\"originalTitle\", \"Scripts\"]]"
   ]
  },
  {
   "cell_type": "code",
   "execution_count": null,
   "id": "d4134564",
   "metadata": {},
   "outputs": [],
   "source": [
    "\n"
   ]
  },
  {
   "cell_type": "code",
   "execution_count": null,
   "id": "34aef0b6",
   "metadata": {},
   "outputs": [],
   "source": []
  },
  {
   "cell_type": "code",
   "execution_count": null,
   "id": "e373db7e",
   "metadata": {},
   "outputs": [],
   "source": []
  }
 ],
 "metadata": {
  "kernelspec": {
   "display_name": "Python 3 (ipykernel)",
   "language": "python",
   "name": "python3"
  },
  "language_info": {
   "codemirror_mode": {
    "name": "ipython",
    "version": 3
   },
   "file_extension": ".py",
   "mimetype": "text/x-python",
   "name": "python",
   "nbconvert_exporter": "python",
   "pygments_lexer": "ipython3",
   "version": "3.9.7"
  }
 },
 "nbformat": 4,
 "nbformat_minor": 5
}
