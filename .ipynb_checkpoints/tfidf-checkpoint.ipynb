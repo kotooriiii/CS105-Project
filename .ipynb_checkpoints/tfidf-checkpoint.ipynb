{
 "cells": [
  {
   "cell_type": "code",
   "execution_count": null,
   "id": "bce143da",
   "metadata": {},
   "outputs": [],
   "source": [
    "import pandas as pd\n",
    "\n",
    "#Read basics.tsv\n",
    "basics_df = pd.read_csv(\"datasets/basics.tsv\", sep=\"\\t\")\n",
    "\n",
    "#Filter basics_df\n",
    "basics_df = basics_df[basics_df[\"titleType\"] == \"movie\"]\n",
    "basics_df = basics_df[basics_df[\"genres\"] != \"\\\\N\"]\n",
    "# basics_df = basics_df[basics_df[\"startYear\"] != \"\\\\N\"]\n",
    "# basics_df[\"startYear\"] = basics_df[\"startYear\"].apply(int)\n",
    "# basics_df = basics_df[basics_df[\"startYear\"] >= 1960]\n",
    "basics_df = basics_df.set_index(\"tconst\")\n",
    "\n",
    "#Filter akas_df\n",
    "akas_df = pd.read_csv(\"datasets/akas.tsv\", sep=\"\\t\", dtype={\n",
    "    \"titleId\": \"string\", \n",
    "    \"ordering\": int, \n",
    "    \"title\": \"string\", \n",
    "    \"region\":\"string\",\n",
    "    \"language\":\"string\"\n",
    "})\n",
    "\n",
    "akas_df = akas_df[akas_df[\"region\"].isin([\"US\",\"CA\"])]\n",
    "akas_df = akas_df[akas_df[\"language\"] == \"en\"]\n",
    "akas_df = akas_df.set_index(\"titleId\")\n",
    "#Join\n",
    "akas_basics_df = basics_df.join(akas_df, how='inner')\n",
    "akas_basics_df\n"
   ]
  },
  {
   "cell_type": "code",
   "execution_count": 33,
   "id": "d4134564",
   "metadata": {},
   "outputs": [],
   "source": [
    "import pandas as pd\n",
    "import re\n",
    "from sklearn.feature_extraction.text import TfidfVectorizer"
   ]
  },
  {
   "cell_type": "code",
   "execution_count": 52,
   "id": "34aef0b6",
   "metadata": {},
   "outputs": [
    {
     "name": "stdout",
     "output_type": "stream",
     "text": [
      "road  -  0.42471718586982765\n",
      "road  -  0.0\n",
      "on  -  0.30218977576862155\n",
      "on  -  0.30218977576862155\n",
      "driven  -  0.30218977576862155\n",
      "driven  -  0.30218977576862155\n",
      "is  -  0.30218977576862155\n",
      "is  -  0.30218977576862155\n",
      "car  -  0.42471718586982765\n",
      "car  -  0.0\n",
      "the  -  0.6043795515372431\n",
      "the  -  0.6043795515372431\n",
      "highway  -  0.0\n",
      "highway  -  0.42471718586982765\n",
      "truck  -  0.0\n",
      "truck  -  0.42471718586982765\n",
      "on  -  0.30218977576862155\n",
      "on  -  0.30218977576862155\n",
      "driven  -  0.30218977576862155\n",
      "driven  -  0.30218977576862155\n",
      "is  -  0.30218977576862155\n",
      "is  -  0.30218977576862155\n",
      "the  -  0.6043795515372431\n",
      "the  -  0.6043795515372431\n"
     ]
    }
   ],
   "source": [
    "it_file = open(\"datasets/it_scripts.txt\", \"r\")\n",
    "it_data = it_file.read()\n",
    "it_file.close()\n",
    "# print(it_data)\n",
    "\n",
    "coco_file = open(\"datasets/coco_scripts.txt\", \"r\")\n",
    "coco_data = coco_file.read()\n",
    "coco_file.close()\n",
    "# print(coco_data)\n",
    "\n",
    "docA = \"the car is driven on the road\"\n",
    "docB = \"the truck is driven on the highway\" \n",
    "\n",
    "tfidf = TfidfVectorizer()\n",
    "response = tfidf.fit_transform([it_data, coco_data])\n",
    "\n",
    "feature_names = tfidf.get_feature_names()\n",
    "for col in response.nonzero()[1]:\n",
    "    print (feature_names[col], ' - ', response[0, col])\n",
    "    print (feature_names[col], ' - ', response[1, col])"
   ]
  },
  {
   "cell_type": "code",
   "execution_count": null,
   "id": "e373db7e",
   "metadata": {},
   "outputs": [],
   "source": []
  }
 ],
 "metadata": {
  "kernelspec": {
   "display_name": "Python 3 (ipykernel)",
   "language": "python",
   "name": "python3"
  },
  "language_info": {
   "codemirror_mode": {
    "name": "ipython",
    "version": 3
   },
   "file_extension": ".py",
   "mimetype": "text/x-python",
   "name": "python",
   "nbconvert_exporter": "python",
   "pygments_lexer": "ipython3",
   "version": "3.9.7"
  }
 },
 "nbformat": 4,
 "nbformat_minor": 5
}
